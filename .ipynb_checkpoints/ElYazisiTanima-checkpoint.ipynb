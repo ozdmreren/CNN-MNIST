{
 "cells": [
  {
   "cell_type": "code",
   "execution_count": 135,
   "id": "6a581905-98c6-46e5-af9b-89974ef27d64",
   "metadata": {},
   "outputs": [],
   "source": [
    "import numpy as np\n",
    "import cv2\n",
    "import tensorflow as tf\n",
    "import matplotlib.pyplot as plt\n",
    "import pandas as pd\n",
    "from matplotlib import colormaps\n",
    "from tensorflow.keras.layers import Conv2D, InputLayer,Dropout,MaxPooling2D, Flatten,Dense\n",
    "from tensorflow.keras.models import Sequential\n",
    "from tensorflow.keras.datasets import mnist\n",
    "from tensorflow.keras.utils import to_categorical\n",
    "from tensorflow.keras.saving import load_model\n",
    "from tensorflow.keras.callbacks import EarlyStopping"
   ]
  },
  {
   "cell_type": "code",
   "execution_count": 2,
   "id": "d1a0c8c4-7a7e-4d04-b8bb-4a9e5a5231f8",
   "metadata": {},
   "outputs": [],
   "source": [
    "(X_train,y_train),(X_test,y_test) = mnist.load_data()"
   ]
  },
  {
   "cell_type": "code",
   "execution_count": 3,
   "id": "dd244d98-e24b-438a-9890-760f18d0147d",
   "metadata": {},
   "outputs": [
    {
     "data": {
      "text/plain": [
       "((60000, 28, 28), (10000, 28, 28))"
      ]
     },
     "execution_count": 3,
     "metadata": {},
     "output_type": "execute_result"
    }
   ],
   "source": [
    "(X_train.shape,X_test.shape)"
   ]
  },
  {
   "cell_type": "code",
   "execution_count": 4,
   "id": "e30aa7e7-71ad-40db-8c09-052dab5bff9f",
   "metadata": {},
   "outputs": [
    {
     "data": {
      "text/plain": [
       "((60000,), (10000,))"
      ]
     },
     "execution_count": 4,
     "metadata": {},
     "output_type": "execute_result"
    }
   ],
   "source": [
    "(y_train.shape,y_test.shape)"
   ]
  },
  {
   "cell_type": "code",
   "execution_count": 5,
   "id": "ede21165-9852-4c0b-a6fb-d12bd26cec34",
   "metadata": {},
   "outputs": [
    {
     "data": {
      "text/plain": [
       "((28, 28), 5)"
      ]
     },
     "execution_count": 5,
     "metadata": {},
     "output_type": "execute_result"
    }
   ],
   "source": [
    "train_data = X_train[0]\n",
    "test_data = y_train[0]\n",
    "(train_data.shape,test_data)"
   ]
  },
  {
   "cell_type": "code",
   "execution_count": null,
   "id": "bc9a80ca-423d-4955-b248-f02fa7b1e2b7",
   "metadata": {},
   "outputs": [],
   "source": [
    "cv2.namedWindow(\"train_data\", cv2.WINDOW_NORMAL) \n",
    "cv2.imshow(\"train_data\",train_data)\n",
    "cv2.waitKey(0)\n",
    "cv2.destroyAllWindows()"
   ]
  },
  {
   "cell_type": "code",
   "execution_count": 11,
   "id": "b636b739-3d90-4cbc-b759-1eb82b1a553c",
   "metadata": {},
   "outputs": [
    {
     "data": {
      "text/plain": [
       "(28, 28)"
      ]
     },
     "execution_count": 11,
     "metadata": {},
     "output_type": "execute_result"
    }
   ],
   "source": [
    "row,col = train_data.shape\n",
    "# 0,1,2,3,4,5,6,7,8,9\n",
    "(row,col)"
   ]
  },
  {
   "cell_type": "code",
   "execution_count": 13,
   "id": "d9a72f4b-be18-46d1-b3f2-9e36458f866a",
   "metadata": {},
   "outputs": [
    {
     "data": {
      "text/plain": [
       "(60000, 28, 28, 1)"
      ]
     },
     "execution_count": 13,
     "metadata": {},
     "output_type": "execute_result"
    }
   ],
   "source": [
    "X_train_reshaped = X_train.reshape(-1,28,28,1)\n",
    "X_train_reshaped.shape"
   ]
  },
  {
   "cell_type": "code",
   "execution_count": 15,
   "id": "ddb272d6-7301-4662-a957-c160956e3f2a",
   "metadata": {},
   "outputs": [
    {
     "data": {
      "text/plain": [
       "(dtype('uint8'), dtype('uint8'))"
      ]
     },
     "execution_count": 15,
     "metadata": {},
     "output_type": "execute_result"
    }
   ],
   "source": [
    "X_train_reshaped.dtype,y_train.dtype"
   ]
  },
  {
   "cell_type": "code",
   "execution_count": 17,
   "id": "8b53cdec-3bcb-40eb-827e-2d6190baed16",
   "metadata": {},
   "outputs": [
    {
     "data": {
      "text/plain": [
       "(60000, 10)"
      ]
     },
     "execution_count": 17,
     "metadata": {},
     "output_type": "execute_result"
    }
   ],
   "source": [
    "y_train_new = to_categorical(y_train,num_classes=10)\n",
    "y_train_new.shape"
   ]
  },
  {
   "cell_type": "code",
   "execution_count": 141,
   "id": "eb050da9-c11f-445d-b550-f9482b3ee8b8",
   "metadata": {},
   "outputs": [],
   "source": [
    "earlyStopCallback = EarlyStopping(monitor=\"loss\",patience=3)"
   ]
  },
  {
   "cell_type": "code",
   "execution_count": 143,
   "id": "285d5842-6077-4ccc-bc2c-0277c64f52e6",
   "metadata": {},
   "outputs": [],
   "source": [
    "model = Sequential()\n",
    "model.add(InputLayer(shape=(row,col,1)))\n",
    "\n",
    "model.add(Conv2D(64,(2,2),padding=\"same\",activation=\"relu\"))\n",
    "model.add(MaxPooling2D())\n",
    "\n",
    "\n",
    "model.add(Conv2D(64,(2,2),padding=\"same\",activation=\"relu\"))\n",
    "model.add(MaxPooling2D())\n",
    "\n",
    "model.add(Conv2D(64,(2,2),padding=\"same\",activation=\"relu\"))\n",
    "model.add(Conv2D(64,(2,2),padding=\"same\",activation=\"relu\"))\n",
    "\n",
    "model.add(Flatten())\n",
    "model.add(Dropout(0.5))\n",
    "\n",
    "model.add(Dense(128,activation='relu'))\n",
    "model.add(Dropout(0.5))\n",
    "\n",
    "model.add(Dense(10,activation=\"softmax\"))"
   ]
  },
  {
   "cell_type": "code",
   "execution_count": 145,
   "id": "fbdc2648-043a-4f7a-a4b3-5afd8a7cbd2d",
   "metadata": {},
   "outputs": [],
   "source": [
    "model.compile(loss=\"categorical_crossentropy\",metrics=[\"accuracy\"])"
   ]
  },
  {
   "cell_type": "code",
   "execution_count": 147,
   "id": "562761ee-6532-4668-aa4c-cbe70d0bcae2",
   "metadata": {},
   "outputs": [
    {
     "data": {
      "text/html": [
       "<pre style=\"white-space:pre;overflow-x:auto;line-height:normal;font-family:Menlo,'DejaVu Sans Mono',consolas,'Courier New',monospace\"><span style=\"font-weight: bold\">Model: \"sequential\"</span>\n",
       "</pre>\n"
      ],
      "text/plain": [
       "\u001b[1mModel: \"sequential\"\u001b[0m\n"
      ]
     },
     "metadata": {},
     "output_type": "display_data"
    },
    {
     "data": {
      "text/html": [
       "<pre style=\"white-space:pre;overflow-x:auto;line-height:normal;font-family:Menlo,'DejaVu Sans Mono',consolas,'Courier New',monospace\">┏━━━━━━━━━━━━━━━━━━━━━━━━━━━━━━━━━━━━━━┳━━━━━━━━━━━━━━━━━━━━━━━━━━━━━┳━━━━━━━━━━━━━━━━━┓\n",
       "┃<span style=\"font-weight: bold\"> Layer (type)                         </span>┃<span style=\"font-weight: bold\"> Output Shape                </span>┃<span style=\"font-weight: bold\">         Param # </span>┃\n",
       "┡━━━━━━━━━━━━━━━━━━━━━━━━━━━━━━━━━━━━━━╇━━━━━━━━━━━━━━━━━━━━━━━━━━━━━╇━━━━━━━━━━━━━━━━━┩\n",
       "│ conv2d (<span style=\"color: #0087ff; text-decoration-color: #0087ff\">Conv2D</span>)                      │ (<span style=\"color: #00d7ff; text-decoration-color: #00d7ff\">None</span>, <span style=\"color: #00af00; text-decoration-color: #00af00\">28</span>, <span style=\"color: #00af00; text-decoration-color: #00af00\">28</span>, <span style=\"color: #00af00; text-decoration-color: #00af00\">64</span>)          │             <span style=\"color: #00af00; text-decoration-color: #00af00\">320</span> │\n",
       "├──────────────────────────────────────┼─────────────────────────────┼─────────────────┤\n",
       "│ max_pooling2d (<span style=\"color: #0087ff; text-decoration-color: #0087ff\">MaxPooling2D</span>)         │ (<span style=\"color: #00d7ff; text-decoration-color: #00d7ff\">None</span>, <span style=\"color: #00af00; text-decoration-color: #00af00\">14</span>, <span style=\"color: #00af00; text-decoration-color: #00af00\">14</span>, <span style=\"color: #00af00; text-decoration-color: #00af00\">64</span>)          │               <span style=\"color: #00af00; text-decoration-color: #00af00\">0</span> │\n",
       "├──────────────────────────────────────┼─────────────────────────────┼─────────────────┤\n",
       "│ conv2d_1 (<span style=\"color: #0087ff; text-decoration-color: #0087ff\">Conv2D</span>)                    │ (<span style=\"color: #00d7ff; text-decoration-color: #00d7ff\">None</span>, <span style=\"color: #00af00; text-decoration-color: #00af00\">14</span>, <span style=\"color: #00af00; text-decoration-color: #00af00\">14</span>, <span style=\"color: #00af00; text-decoration-color: #00af00\">64</span>)          │          <span style=\"color: #00af00; text-decoration-color: #00af00\">16,448</span> │\n",
       "├──────────────────────────────────────┼─────────────────────────────┼─────────────────┤\n",
       "│ max_pooling2d_1 (<span style=\"color: #0087ff; text-decoration-color: #0087ff\">MaxPooling2D</span>)       │ (<span style=\"color: #00d7ff; text-decoration-color: #00d7ff\">None</span>, <span style=\"color: #00af00; text-decoration-color: #00af00\">7</span>, <span style=\"color: #00af00; text-decoration-color: #00af00\">7</span>, <span style=\"color: #00af00; text-decoration-color: #00af00\">64</span>)            │               <span style=\"color: #00af00; text-decoration-color: #00af00\">0</span> │\n",
       "├──────────────────────────────────────┼─────────────────────────────┼─────────────────┤\n",
       "│ conv2d_2 (<span style=\"color: #0087ff; text-decoration-color: #0087ff\">Conv2D</span>)                    │ (<span style=\"color: #00d7ff; text-decoration-color: #00d7ff\">None</span>, <span style=\"color: #00af00; text-decoration-color: #00af00\">7</span>, <span style=\"color: #00af00; text-decoration-color: #00af00\">7</span>, <span style=\"color: #00af00; text-decoration-color: #00af00\">64</span>)            │          <span style=\"color: #00af00; text-decoration-color: #00af00\">16,448</span> │\n",
       "├──────────────────────────────────────┼─────────────────────────────┼─────────────────┤\n",
       "│ conv2d_3 (<span style=\"color: #0087ff; text-decoration-color: #0087ff\">Conv2D</span>)                    │ (<span style=\"color: #00d7ff; text-decoration-color: #00d7ff\">None</span>, <span style=\"color: #00af00; text-decoration-color: #00af00\">7</span>, <span style=\"color: #00af00; text-decoration-color: #00af00\">7</span>, <span style=\"color: #00af00; text-decoration-color: #00af00\">64</span>)            │          <span style=\"color: #00af00; text-decoration-color: #00af00\">16,448</span> │\n",
       "├──────────────────────────────────────┼─────────────────────────────┼─────────────────┤\n",
       "│ flatten (<span style=\"color: #0087ff; text-decoration-color: #0087ff\">Flatten</span>)                    │ (<span style=\"color: #00d7ff; text-decoration-color: #00d7ff\">None</span>, <span style=\"color: #00af00; text-decoration-color: #00af00\">3136</span>)                │               <span style=\"color: #00af00; text-decoration-color: #00af00\">0</span> │\n",
       "├──────────────────────────────────────┼─────────────────────────────┼─────────────────┤\n",
       "│ dropout (<span style=\"color: #0087ff; text-decoration-color: #0087ff\">Dropout</span>)                    │ (<span style=\"color: #00d7ff; text-decoration-color: #00d7ff\">None</span>, <span style=\"color: #00af00; text-decoration-color: #00af00\">3136</span>)                │               <span style=\"color: #00af00; text-decoration-color: #00af00\">0</span> │\n",
       "├──────────────────────────────────────┼─────────────────────────────┼─────────────────┤\n",
       "│ dense (<span style=\"color: #0087ff; text-decoration-color: #0087ff\">Dense</span>)                        │ (<span style=\"color: #00d7ff; text-decoration-color: #00d7ff\">None</span>, <span style=\"color: #00af00; text-decoration-color: #00af00\">128</span>)                 │         <span style=\"color: #00af00; text-decoration-color: #00af00\">401,536</span> │\n",
       "├──────────────────────────────────────┼─────────────────────────────┼─────────────────┤\n",
       "│ dropout_1 (<span style=\"color: #0087ff; text-decoration-color: #0087ff\">Dropout</span>)                  │ (<span style=\"color: #00d7ff; text-decoration-color: #00d7ff\">None</span>, <span style=\"color: #00af00; text-decoration-color: #00af00\">128</span>)                 │               <span style=\"color: #00af00; text-decoration-color: #00af00\">0</span> │\n",
       "├──────────────────────────────────────┼─────────────────────────────┼─────────────────┤\n",
       "│ dense_1 (<span style=\"color: #0087ff; text-decoration-color: #0087ff\">Dense</span>)                      │ (<span style=\"color: #00d7ff; text-decoration-color: #00d7ff\">None</span>, <span style=\"color: #00af00; text-decoration-color: #00af00\">10</span>)                  │           <span style=\"color: #00af00; text-decoration-color: #00af00\">1,290</span> │\n",
       "└──────────────────────────────────────┴─────────────────────────────┴─────────────────┘\n",
       "</pre>\n"
      ],
      "text/plain": [
       "┏━━━━━━━━━━━━━━━━━━━━━━━━━━━━━━━━━━━━━━┳━━━━━━━━━━━━━━━━━━━━━━━━━━━━━┳━━━━━━━━━━━━━━━━━┓\n",
       "┃\u001b[1m \u001b[0m\u001b[1mLayer (type)                        \u001b[0m\u001b[1m \u001b[0m┃\u001b[1m \u001b[0m\u001b[1mOutput Shape               \u001b[0m\u001b[1m \u001b[0m┃\u001b[1m \u001b[0m\u001b[1m        Param #\u001b[0m\u001b[1m \u001b[0m┃\n",
       "┡━━━━━━━━━━━━━━━━━━━━━━━━━━━━━━━━━━━━━━╇━━━━━━━━━━━━━━━━━━━━━━━━━━━━━╇━━━━━━━━━━━━━━━━━┩\n",
       "│ conv2d (\u001b[38;5;33mConv2D\u001b[0m)                      │ (\u001b[38;5;45mNone\u001b[0m, \u001b[38;5;34m28\u001b[0m, \u001b[38;5;34m28\u001b[0m, \u001b[38;5;34m64\u001b[0m)          │             \u001b[38;5;34m320\u001b[0m │\n",
       "├──────────────────────────────────────┼─────────────────────────────┼─────────────────┤\n",
       "│ max_pooling2d (\u001b[38;5;33mMaxPooling2D\u001b[0m)         │ (\u001b[38;5;45mNone\u001b[0m, \u001b[38;5;34m14\u001b[0m, \u001b[38;5;34m14\u001b[0m, \u001b[38;5;34m64\u001b[0m)          │               \u001b[38;5;34m0\u001b[0m │\n",
       "├──────────────────────────────────────┼─────────────────────────────┼─────────────────┤\n",
       "│ conv2d_1 (\u001b[38;5;33mConv2D\u001b[0m)                    │ (\u001b[38;5;45mNone\u001b[0m, \u001b[38;5;34m14\u001b[0m, \u001b[38;5;34m14\u001b[0m, \u001b[38;5;34m64\u001b[0m)          │          \u001b[38;5;34m16,448\u001b[0m │\n",
       "├──────────────────────────────────────┼─────────────────────────────┼─────────────────┤\n",
       "│ max_pooling2d_1 (\u001b[38;5;33mMaxPooling2D\u001b[0m)       │ (\u001b[38;5;45mNone\u001b[0m, \u001b[38;5;34m7\u001b[0m, \u001b[38;5;34m7\u001b[0m, \u001b[38;5;34m64\u001b[0m)            │               \u001b[38;5;34m0\u001b[0m │\n",
       "├──────────────────────────────────────┼─────────────────────────────┼─────────────────┤\n",
       "│ conv2d_2 (\u001b[38;5;33mConv2D\u001b[0m)                    │ (\u001b[38;5;45mNone\u001b[0m, \u001b[38;5;34m7\u001b[0m, \u001b[38;5;34m7\u001b[0m, \u001b[38;5;34m64\u001b[0m)            │          \u001b[38;5;34m16,448\u001b[0m │\n",
       "├──────────────────────────────────────┼─────────────────────────────┼─────────────────┤\n",
       "│ conv2d_3 (\u001b[38;5;33mConv2D\u001b[0m)                    │ (\u001b[38;5;45mNone\u001b[0m, \u001b[38;5;34m7\u001b[0m, \u001b[38;5;34m7\u001b[0m, \u001b[38;5;34m64\u001b[0m)            │          \u001b[38;5;34m16,448\u001b[0m │\n",
       "├──────────────────────────────────────┼─────────────────────────────┼─────────────────┤\n",
       "│ flatten (\u001b[38;5;33mFlatten\u001b[0m)                    │ (\u001b[38;5;45mNone\u001b[0m, \u001b[38;5;34m3136\u001b[0m)                │               \u001b[38;5;34m0\u001b[0m │\n",
       "├──────────────────────────────────────┼─────────────────────────────┼─────────────────┤\n",
       "│ dropout (\u001b[38;5;33mDropout\u001b[0m)                    │ (\u001b[38;5;45mNone\u001b[0m, \u001b[38;5;34m3136\u001b[0m)                │               \u001b[38;5;34m0\u001b[0m │\n",
       "├──────────────────────────────────────┼─────────────────────────────┼─────────────────┤\n",
       "│ dense (\u001b[38;5;33mDense\u001b[0m)                        │ (\u001b[38;5;45mNone\u001b[0m, \u001b[38;5;34m128\u001b[0m)                 │         \u001b[38;5;34m401,536\u001b[0m │\n",
       "├──────────────────────────────────────┼─────────────────────────────┼─────────────────┤\n",
       "│ dropout_1 (\u001b[38;5;33mDropout\u001b[0m)                  │ (\u001b[38;5;45mNone\u001b[0m, \u001b[38;5;34m128\u001b[0m)                 │               \u001b[38;5;34m0\u001b[0m │\n",
       "├──────────────────────────────────────┼─────────────────────────────┼─────────────────┤\n",
       "│ dense_1 (\u001b[38;5;33mDense\u001b[0m)                      │ (\u001b[38;5;45mNone\u001b[0m, \u001b[38;5;34m10\u001b[0m)                  │           \u001b[38;5;34m1,290\u001b[0m │\n",
       "└──────────────────────────────────────┴─────────────────────────────┴─────────────────┘\n"
      ]
     },
     "metadata": {},
     "output_type": "display_data"
    },
    {
     "data": {
      "text/html": [
       "<pre style=\"white-space:pre;overflow-x:auto;line-height:normal;font-family:Menlo,'DejaVu Sans Mono',consolas,'Courier New',monospace\"><span style=\"font-weight: bold\"> Total params: </span><span style=\"color: #00af00; text-decoration-color: #00af00\">452,490</span> (1.73 MB)\n",
       "</pre>\n"
      ],
      "text/plain": [
       "\u001b[1m Total params: \u001b[0m\u001b[38;5;34m452,490\u001b[0m (1.73 MB)\n"
      ]
     },
     "metadata": {},
     "output_type": "display_data"
    },
    {
     "data": {
      "text/html": [
       "<pre style=\"white-space:pre;overflow-x:auto;line-height:normal;font-family:Menlo,'DejaVu Sans Mono',consolas,'Courier New',monospace\"><span style=\"font-weight: bold\"> Trainable params: </span><span style=\"color: #00af00; text-decoration-color: #00af00\">452,490</span> (1.73 MB)\n",
       "</pre>\n"
      ],
      "text/plain": [
       "\u001b[1m Trainable params: \u001b[0m\u001b[38;5;34m452,490\u001b[0m (1.73 MB)\n"
      ]
     },
     "metadata": {},
     "output_type": "display_data"
    },
    {
     "data": {
      "text/html": [
       "<pre style=\"white-space:pre;overflow-x:auto;line-height:normal;font-family:Menlo,'DejaVu Sans Mono',consolas,'Courier New',monospace\"><span style=\"font-weight: bold\"> Non-trainable params: </span><span style=\"color: #00af00; text-decoration-color: #00af00\">0</span> (0.00 B)\n",
       "</pre>\n"
      ],
      "text/plain": [
       "\u001b[1m Non-trainable params: \u001b[0m\u001b[38;5;34m0\u001b[0m (0.00 B)\n"
      ]
     },
     "metadata": {},
     "output_type": "display_data"
    }
   ],
   "source": [
    "model.summary()"
   ]
  },
  {
   "cell_type": "code",
   "execution_count": 149,
   "id": "f18bc105-7d37-4258-ae0b-3eb35683c972",
   "metadata": {
    "scrolled": true
   },
   "outputs": [
    {
     "name": "stdout",
     "output_type": "stream",
     "text": [
      "Epoch 1/10\n",
      "\u001b[1m329/329\u001b[0m \u001b[32m━━━━━━━━━━━━━━━━━━━━\u001b[0m\u001b[37m\u001b[0m \u001b[1m14s\u001b[0m 36ms/step - accuracy: 0.7343 - loss: 1.2044 - val_accuracy: 0.9709 - val_loss: 0.0927\n",
      "Epoch 2/10\n",
      "\u001b[1m329/329\u001b[0m \u001b[32m━━━━━━━━━━━━━━━━━━━━\u001b[0m\u001b[37m\u001b[0m \u001b[1m10s\u001b[0m 31ms/step - accuracy: 0.9513 - loss: 0.1641 - val_accuracy: 0.9572 - val_loss: 0.1399\n",
      "Epoch 3/10\n",
      "\u001b[1m329/329\u001b[0m \u001b[32m━━━━━━━━━━━━━━━━━━━━\u001b[0m\u001b[37m\u001b[0m \u001b[1m10s\u001b[0m 31ms/step - accuracy: 0.9666 - loss: 0.1119 - val_accuracy: 0.9831 - val_loss: 0.0621\n",
      "Epoch 4/10\n",
      "\u001b[1m329/329\u001b[0m \u001b[32m━━━━━━━━━━━━━━━━━━━━\u001b[0m\u001b[37m\u001b[0m \u001b[1m10s\u001b[0m 31ms/step - accuracy: 0.9740 - loss: 0.0900 - val_accuracy: 0.9836 - val_loss: 0.0567\n",
      "Epoch 5/10\n",
      "\u001b[1m329/329\u001b[0m \u001b[32m━━━━━━━━━━━━━━━━━━━━\u001b[0m\u001b[37m\u001b[0m \u001b[1m10s\u001b[0m 31ms/step - accuracy: 0.9757 - loss: 0.0824 - val_accuracy: 0.9866 - val_loss: 0.0484\n",
      "Epoch 6/10\n",
      "\u001b[1m329/329\u001b[0m \u001b[32m━━━━━━━━━━━━━━━━━━━━\u001b[0m\u001b[37m\u001b[0m \u001b[1m10s\u001b[0m 31ms/step - accuracy: 0.9796 - loss: 0.0748 - val_accuracy: 0.9870 - val_loss: 0.0463\n",
      "Epoch 7/10\n",
      "\u001b[1m329/329\u001b[0m \u001b[32m━━━━━━━━━━━━━━━━━━━━\u001b[0m\u001b[37m\u001b[0m \u001b[1m10s\u001b[0m 32ms/step - accuracy: 0.9823 - loss: 0.0626 - val_accuracy: 0.9866 - val_loss: 0.0496\n",
      "Epoch 8/10\n",
      "\u001b[1m329/329\u001b[0m \u001b[32m━━━━━━━━━━━━━━━━━━━━\u001b[0m\u001b[37m\u001b[0m \u001b[1m10s\u001b[0m 32ms/step - accuracy: 0.9819 - loss: 0.0633 - val_accuracy: 0.9877 - val_loss: 0.0476\n",
      "Epoch 9/10\n",
      "\u001b[1m329/329\u001b[0m \u001b[32m━━━━━━━━━━━━━━━━━━━━\u001b[0m\u001b[37m\u001b[0m \u001b[1m10s\u001b[0m 32ms/step - accuracy: 0.9829 - loss: 0.0599 - val_accuracy: 0.9827 - val_loss: 0.0630\n",
      "Epoch 10/10\n",
      "\u001b[1m329/329\u001b[0m \u001b[32m━━━━━━━━━━━━━━━━━━━━\u001b[0m\u001b[37m\u001b[0m \u001b[1m11s\u001b[0m 33ms/step - accuracy: 0.9841 - loss: 0.0572 - val_accuracy: 0.9862 - val_loss: 0.0534\n"
     ]
    }
   ],
   "source": [
    "history = model.fit(X_train_reshaped,y_train_new,epochs=10,batch_size=128,validation_split=0.3,callbacks=[earlyStopCallback])"
   ]
  },
  {
   "cell_type": "code",
   "execution_count": 151,
   "id": "12cac224-9764-4968-a9cd-85a6a3bf2d7f",
   "metadata": {},
   "outputs": [],
   "source": [
    "model.save(\"elyazisi.keras\")"
   ]
  },
  {
   "cell_type": "code",
   "execution_count": 153,
   "id": "b7c45052-43b3-4229-9f33-d9fc1bdbcc16",
   "metadata": {},
   "outputs": [
    {
     "data": {
      "text/plain": [
       "((60000, 28, 28), (60000, 10))"
      ]
     },
     "execution_count": 153,
     "metadata": {},
     "output_type": "execute_result"
    }
   ],
   "source": [
    "X_train.shape,y_train_new.shape"
   ]
  },
  {
   "cell_type": "code",
   "execution_count": 155,
   "id": "294a411f-cc72-4ce5-b48c-aac32269c7d6",
   "metadata": {
    "scrolled": true
   },
   "outputs": [
    {
     "data": {
      "text/plain": [
       "{'accuracy': [0.8604047894477844,\n",
       "  0.9564523696899414,\n",
       "  0.9687857031822205,\n",
       "  0.9741904735565186,\n",
       "  0.9763809442520142,\n",
       "  0.9788809418678284,\n",
       "  0.9817619323730469,\n",
       "  0.9817380905151367,\n",
       "  0.9833809733390808,\n",
       "  0.9839761853218079],\n",
       " 'loss': [0.5134495496749878,\n",
       "  0.15165163576602936,\n",
       "  0.11018872261047363,\n",
       "  0.09124462306499481,\n",
       "  0.08171403408050537,\n",
       "  0.07436128705739975,\n",
       "  0.06457584351301193,\n",
       "  0.06304750591516495,\n",
       "  0.05924811214208603,\n",
       "  0.05884888768196106],\n",
       " 'val_accuracy': [0.9708889126777649,\n",
       "  0.9572222232818604,\n",
       "  0.9831110835075378,\n",
       "  0.9835555553436279,\n",
       "  0.9865555763244629,\n",
       "  0.9869999885559082,\n",
       "  0.9866111278533936,\n",
       "  0.9877222180366516,\n",
       "  0.9827222228050232,\n",
       "  0.9861666560173035],\n",
       " 'val_loss': [0.09267758578062057,\n",
       "  0.13988183438777924,\n",
       "  0.06208541616797447,\n",
       "  0.05668269097805023,\n",
       "  0.04839712008833885,\n",
       "  0.046349264681339264,\n",
       "  0.049556899815797806,\n",
       "  0.047597065567970276,\n",
       "  0.06302066892385483,\n",
       "  0.05336404964327812]}"
      ]
     },
     "execution_count": 155,
     "metadata": {},
     "output_type": "execute_result"
    }
   ],
   "source": [
    "history.history"
   ]
  },
  {
   "cell_type": "code",
   "execution_count": 41,
   "id": "fbbdaf49-b545-493c-a460-e6ca285b4d22",
   "metadata": {},
   "outputs": [
    {
     "data": {
      "image/png": "[encoded data removed]",
      "text/plain": [
       "<Figure size 1400x500 with 2 Axes>"
      ]
     },
     "metadata": {},
     "output_type": "display_data"
    }
   ],
   "source": [
    "plt.figure(figsize=(14,5))\n",
    "plt.subplot(1,2,1)\n",
    "plt.plot(history.history[\"accuracy\"],label=\"training accuracy\")\n",
    "plt.plot(history.history[\"val_accuracy\"],label=\"validation accuracy\")\n",
    "plt.title(\"Training Accuracy VS Validation Accuracy\")\n",
    "plt.legend(loc=\"upper right\")\n",
    "\n",
    "plt.subplot(1,2,2)\n",
    "plt.plot(history.history[\"loss\"],label=\"training loss\")\n",
    "plt.plot(history.history[\"val_loss\"],label=\"validation loss\")\n",
    "plt.title(\"Training Loss VS Validation Loss\")\n",
    "plt.legend(loc=\"upper right\")\n",
    "\n",
    "plt.show()"
   ]
  },
  {
   "cell_type": "code",
   "execution_count": 157,
   "id": "ed63483e-4ae0-4503-bab1-02f3f2273e88",
   "metadata": {},
   "outputs": [
    {
     "data": {
      "text/plain": [
       "(1, 28, 28)"
      ]
     },
     "execution_count": 157,
     "metadata": {},
     "output_type": "execute_result"
    }
   ],
   "source": [
    "train_data = train_data.reshape(-1,28,28)\n",
    "train_data.shape"
   ]
  },
  {
   "cell_type": "code",
   "execution_count": 159,
   "id": "4aa933bc-337e-4a4e-9e0a-ed01cbcf1f47",
   "metadata": {},
   "outputs": [
    {
     "name": "stdout",
     "output_type": "stream",
     "text": [
      "\u001b[1m1/1\u001b[0m \u001b[32m━━━━━━━━━━━━━━━━━━━━\u001b[0m\u001b[37m\u001b[0m \u001b[1m0s\u001b[0m 115ms/step\n"
     ]
    }
   ],
   "source": [
    "predicted = model.predict(train_data)"
   ]
  },
  {
   "cell_type": "code",
   "execution_count": 161,
   "id": "845bad58-cc01-4d43-a459-f035c9454409",
   "metadata": {},
   "outputs": [
    {
     "data": {
      "text/plain": [
       "array([[3.16843241e-09, 1.29547555e-08, 2.48808929e-09, 1.59016388e-04,\n",
       "        2.35373521e-09, 9.99806821e-01, 1.49987306e-06, 7.43798578e-09,\n",
       "        2.41187208e-05, 8.57974919e-06]], dtype=float32)"
      ]
     },
     "execution_count": 161,
     "metadata": {},
     "output_type": "execute_result"
    }
   ],
   "source": [
    "predicted"
   ]
  },
  {
   "cell_type": "code",
   "execution_count": 163,
   "id": "baca8fe7-0631-475e-b7e1-c61ca1f61d57",
   "metadata": {},
   "outputs": [],
   "source": [
    "colList = [0,1,2,3,4,5,6,7,8,9]\n",
    "valList = []\n",
    "for val in predicted:\n",
    "    valList.append(val)"
   ]
  },
  {
   "cell_type": "code",
   "execution_count": 165,
   "id": "c0d41099-78b3-4b3c-8ed2-1d6a371b0baa",
   "metadata": {},
   "outputs": [
    {
     "data": {
      "text/plain": [
       "[5]"
      ]
     },
     "execution_count": 165,
     "metadata": {},
     "output_type": "execute_result"
    }
   ],
   "source": [
    "finalResult = [np.argmax(i) for i in valList]\n",
    "finalResult "
   ]
  },
  {
   "cell_type": "code",
   "execution_count": 167,
   "id": "b626e4b1-11d6-47a9-8da6-b972252312f0",
   "metadata": {},
   "outputs": [
    {
     "data": {
      "text/plain": [
       "[array([3.16843241e-09, 1.29547555e-08, 2.48808929e-09, 1.59016388e-04,\n",
       "        2.35373521e-09, 9.99806821e-01, 1.49987306e-06, 7.43798578e-09,\n",
       "        2.41187208e-05, 8.57974919e-06], dtype=float32)]"
      ]
     },
     "execution_count": 167,
     "metadata": {},
     "output_type": "execute_result"
    }
   ],
   "source": [
    "valList"
   ]
  },
  {
   "cell_type": "code",
   "execution_count": 169,
   "id": "628b2e8c-7b97-4179-8707-26ecc26c2ce2",
   "metadata": {},
   "outputs": [
    {
     "data": {
      "image/png": "[encoded data removed]",
      "text/plain": [
       "<Figure size 640x480 with 1 Axes>"
      ]
     },
     "metadata": {},
     "output_type": "display_data"
    }
   ],
   "source": [
    "plt.imshow(train_data.reshape(-1,28),cmap=\"gray\")\n",
    "plt.show()"
   ]
  },
  {
   "cell_type": "code",
   "execution_count": 37,
   "id": "c51ba587-bc77-45ac-a73b-276b601fcdbc",
   "metadata": {},
   "outputs": [
    {
     "data": {
      "text/plain": [
       "(28, 28)"
      ]
     },
     "execution_count": 37,
     "metadata": {},
     "output_type": "execute_result"
    }
   ],
   "source": [
    "train_data.reshape(-1,28).shape"
   ]
  },
  {
   "cell_type": "code",
   "execution_count": 171,
   "id": "37ea4c3b-80d3-42af-b154-475a7e4a05bd",
   "metadata": {},
   "outputs": [],
   "source": [
    "def showColorMaps():\n",
    "    for (index,color) in enumerate(colormaps):\n",
    "        print(f\"{index + 1}.Color: {color}\")"
   ]
  },
  {
   "cell_type": "code",
   "execution_count": 173,
   "id": "ac850740-98e1-4613-8e58-199cea5e591a",
   "metadata": {},
   "outputs": [],
   "source": [
    "def show10Image(fsize:tuple,row,col,cmap=\"grey\",random=False):\n",
    "    plt.figure(figsize=fsize)\n",
    " \n",
    "    if random:\n",
    "        randoms = np.random.randint(0,60000,10)\n",
    "        for index,randIndex in enumerate(randoms):\n",
    "            # 2 satır, 5 sütun, resim'in geleceği index sayısı\n",
    "            plt.subplot(row,col,index + 1)\n",
    "            plt.imshow(X_train[randIndex],cmap=cmap)\n",
    "            plt.title(y_train[randIndex])\n",
    "    else:\n",
    "        for index in range(10):\n",
    "            # 2 satır, 5 sütun, resim'in geleceği index sayısı\n",
    "            plt.subplot(row,col,index + 1)\n",
    "            plt.imshow(X_train[index],cmap=cmap)\n",
    "            plt.title(y_train[index])"
   ]
  },
  {
   "cell_type": "code",
   "execution_count": 41,
   "id": "bb1081ec-b559-48a6-99c2-9eea7773d468",
   "metadata": {
    "scrolled": true
   },
   "outputs": [
    {
     "name": "stdout",
     "output_type": "stream",
     "text": [
      "1.Color: magma\n",
      "2.Color: inferno\n",
      "3.Color: plasma\n",
      "4.Color: viridis\n",
      "5.Color: cividis\n",
      "6.Color: twilight\n",
      "7.Color: twilight_shifted\n",
      "8.Color: turbo\n",
      "9.Color: berlin\n",
      "10.Color: managua\n",
      "11.Color: vanimo\n",
      "12.Color: Blues\n",
      "13.Color: BrBG\n",
      "14.Color: BuGn\n",
      "15.Color: BuPu\n",
      "16.Color: CMRmap\n",
      "17.Color: GnBu\n",
      "18.Color: Greens\n",
      "19.Color: Greys\n",
      "20.Color: OrRd\n",
      "21.Color: Oranges\n",
      "22.Color: PRGn\n",
      "23.Color: PiYG\n",
      "24.Color: PuBu\n",
      "25.Color: PuBuGn\n",
      "26.Color: PuOr\n",
      "27.Color: PuRd\n",
      "28.Color: Purples\n",
      "29.Color: RdBu\n",
      "30.Color: RdGy\n",
      "31.Color: RdPu\n",
      "32.Color: RdYlBu\n",
      "33.Color: RdYlGn\n",
      "34.Color: Reds\n",
      "35.Color: Spectral\n",
      "36.Color: Wistia\n",
      "37.Color: YlGn\n",
      "38.Color: YlGnBu\n",
      "39.Color: YlOrBr\n",
      "40.Color: YlOrRd\n",
      "41.Color: afmhot\n",
      "42.Color: autumn\n",
      "43.Color: binary\n",
      "44.Color: bone\n",
      "45.Color: brg\n",
      "46.Color: bwr\n",
      "47.Color: cool\n",
      "48.Color: coolwarm\n",
      "49.Color: copper\n",
      "50.Color: cubehelix\n",
      "51.Color: flag\n",
      "52.Color: gist_earth\n",
      "53.Color: gist_gray\n",
      "54.Color: gist_heat\n",
      "55.Color: gist_ncar\n",
      "56.Color: gist_rainbow\n",
      "57.Color: gist_stern\n",
      "58.Color: gist_yarg\n",
      "59.Color: gnuplot\n",
      "60.Color: gnuplot2\n",
      "61.Color: gray\n",
      "62.Color: hot\n",
      "63.Color: hsv\n",
      "64.Color: jet\n",
      "65.Color: nipy_spectral\n",
      "66.Color: ocean\n",
      "67.Color: pink\n",
      "68.Color: prism\n",
      "69.Color: rainbow\n",
      "70.Color: seismic\n",
      "71.Color: spring\n",
      "72.Color: summer\n",
      "73.Color: terrain\n",
      "74.Color: winter\n",
      "75.Color: Accent\n",
      "76.Color: Dark2\n",
      "77.Color: Paired\n",
      "78.Color: Pastel1\n",
      "79.Color: Pastel2\n",
      "80.Color: Set1\n",
      "81.Color: Set2\n",
      "82.Color: Set3\n",
      "83.Color: tab10\n",
      "84.Color: tab20\n",
      "85.Color: tab20b\n",
      "86.Color: tab20c\n",
      "87.Color: grey\n",
      "88.Color: gist_grey\n",
      "89.Color: gist_yerg\n",
      "90.Color: Grays\n",
      "91.Color: magma_r\n",
      "92.Color: inferno_r\n",
      "93.Color: plasma_r\n",
      "94.Color: viridis_r\n",
      "95.Color: cividis_r\n",
      "96.Color: twilight_r\n",
      "97.Color: twilight_shifted_r\n",
      "98.Color: turbo_r\n",
      "99.Color: berlin_r\n",
      "100.Color: managua_r\n",
      "101.Color: vanimo_r\n",
      "102.Color: Blues_r\n",
      "103.Color: BrBG_r\n",
      "104.Color: BuGn_r\n",
      "105.Color: BuPu_r\n",
      "106.Color: CMRmap_r\n",
      "107.Color: GnBu_r\n",
      "108.Color: Greens_r\n",
      "109.Color: Greys_r\n",
      "110.Color: OrRd_r\n",
      "111.Color: Oranges_r\n",
      "112.Color: PRGn_r\n",
      "113.Color: PiYG_r\n",
      "114.Color: PuBu_r\n",
      "115.Color: PuBuGn_r\n",
      "116.Color: PuOr_r\n",
      "117.Color: PuRd_r\n",
      "118.Color: Purples_r\n",
      "119.Color: RdBu_r\n",
      "120.Color: RdGy_r\n",
      "121.Color: RdPu_r\n",
      "122.Color: RdYlBu_r\n",
      "123.Color: RdYlGn_r\n",
      "124.Color: Reds_r\n",
      "125.Color: Spectral_r\n",
      "126.Color: Wistia_r\n",
      "127.Color: YlGn_r\n",
      "128.Color: YlGnBu_r\n",
      "129.Color: YlOrBr_r\n",
      "130.Color: YlOrRd_r\n",
      "131.Color: afmhot_r\n",
      "132.Color: autumn_r\n",
      "133.Color: binary_r\n",
      "134.Color: bone_r\n",
      "135.Color: brg_r\n",
      "136.Color: bwr_r\n",
      "137.Color: cool_r\n",
      "138.Color: coolwarm_r\n",
      "139.Color: copper_r\n",
      "140.Color: cubehelix_r\n",
      "141.Color: flag_r\n",
      "142.Color: gist_earth_r\n",
      "143.Color: gist_gray_r\n",
      "144.Color: gist_heat_r\n",
      "145.Color: gist_ncar_r\n",
      "146.Color: gist_rainbow_r\n",
      "147.Color: gist_stern_r\n",
      "148.Color: gist_yarg_r\n",
      "149.Color: gnuplot_r\n",
      "150.Color: gnuplot2_r\n",
      "151.Color: gray_r\n",
      "152.Color: hot_r\n",
      "153.Color: hsv_r\n",
      "154.Color: jet_r\n",
      "155.Color: nipy_spectral_r\n",
      "156.Color: ocean_r\n",
      "157.Color: pink_r\n",
      "158.Color: prism_r\n",
      "159.Color: rainbow_r\n",
      "160.Color: seismic_r\n",
      "161.Color: spring_r\n",
      "162.Color: summer_r\n",
      "163.Color: terrain_r\n",
      "164.Color: winter_r\n",
      "165.Color: Accent_r\n",
      "166.Color: Dark2_r\n",
      "167.Color: Paired_r\n",
      "168.Color: Pastel1_r\n",
      "169.Color: Pastel2_r\n",
      "170.Color: Set1_r\n",
      "171.Color: Set2_r\n",
      "172.Color: Set3_r\n",
      "173.Color: tab10_r\n",
      "174.Color: tab20_r\n",
      "175.Color: tab20b_r\n",
      "176.Color: tab20c_r\n",
      "177.Color: grey_r\n",
      "178.Color: gist_grey_r\n",
      "179.Color: gist_yerg_r\n",
      "180.Color: Grays_r\n"
     ]
    }
   ],
   "source": [
    "showColorMaps()"
   ]
  },
  {
   "cell_type": "code",
   "execution_count": 175,
   "id": "80480b74-3e23-465e-8a24-9617393d18cf",
   "metadata": {},
   "outputs": [
    {
     "data": {
      "image/png": "[encoded data removed]",
      "text/plain": [
       "<Figure size 1400x500 with 10 Axes>"
      ]
     },
     "metadata": {},
     "output_type": "display_data"
    }
   ],
   "source": [
    "show10Image((14,5),2,5,\"magma\",True)"
   ]
  },
  {
   "cell_type": "code",
   "execution_count": 219,
   "id": "3cefcdeb-34a9-4eb6-85d7-3e7fe3cad0df",
   "metadata": {},
   "outputs": [],
   "source": [
    "def import_external_image(path):\n",
    "    \"\"\"\n",
    "    parameters:\n",
    "        path: The path of image.\n",
    "    \"\"\"\n",
    "    three_png = cv2.imread(path,cv2.IMREAD_GRAYSCALE)\n",
    "\n",
    "    #three_png = cv2.bitwise_not(three_png)\n",
    "    \n",
    "    three_png_resized = cv2.resize(three_png,(28,28))\n",
    "    #print(three_png_resized.shape)\n",
    "    \n",
    "    three_png_resized = np.reshape(three_png_resized,(28,28,-1))\n",
    "    #print(three_png_resized.shape)\n",
    "    \n",
    "    three_png_resized.astype(\"uint8\")\n",
    "\n",
    "    plt.imshow(three_png_resized,cmap=\"gray\")\n",
    "    plt.show()\n",
    "\n",
    "    three_png_resized = np.reshape(three_png_resized,(-1,28,28))\n",
    "\n",
    "    print(\"Type: {}\".format(type(three_png_resized)))\n",
    "    print(\"Dtype: {}\".format(three_png_resized.dtype))\n",
    "    print(\"Shape: {}\".format(three_png_resized.shape))\n",
    "    \n",
    "    return three_png_resized\n"
   ]
  },
  {
   "cell_type": "code",
   "execution_count": 205,
   "id": "f94571eb-aaae-4aa4-9e3c-f5e1e799be1d",
   "metadata": {},
   "outputs": [],
   "source": [
    "def predict(model,x_data):\n",
    "    \"\"\"\n",
    "    parameters:\n",
    "        model: The model is predictor\n",
    "        x_data: The x_data is X_train\n",
    "    \"\"\"\n",
    "    \n",
    "    columns = []\n",
    "    \n",
    "    for i in range(10):\n",
    "        columns.append(f\"{i}\")\n",
    "        \n",
    "    pred = model.predict(x_data)\n",
    "    \n",
    "    resultDf = pd.DataFrame(columns=columns,data=pred,index=[\"Accuracy Rate\"])\n",
    "\n",
    "    finalResult = np.argmax(pred)\n",
    "\n",
    "    return (resultDf,finalResult)\n"
   ]
  },
  {
   "cell_type": "code",
   "execution_count": 221,
   "id": "4ea3c636-46d9-43b9-9b03-4945811dcdcf",
   "metadata": {},
   "outputs": [
    {
     "data": {
      "image/png": "[encoded data removed]",
      "text/plain": [
       "<Figure size 640x480 with 1 Axes>"
      ]
     },
     "metadata": {},
     "output_type": "display_data"
    },
    {
     "name": "stdout",
     "output_type": "stream",
     "text": [
      "Type: <class 'numpy.ndarray'>\n",
      "Dtype: uint8\n",
      "Shape: (1, 28, 28)\n"
     ]
    }
   ],
   "source": [
    "image = import_external_image(\"./three(28x28).png\")"
   ]
  },
  {
   "cell_type": "code",
   "execution_count": 209,
   "id": "8dd6ae63-fd16-4561-9e19-cdc5cf9623ff",
   "metadata": {},
   "outputs": [
    {
     "name": "stdout",
     "output_type": "stream",
     "text": [
      "\u001b[1m1/1\u001b[0m \u001b[32m━━━━━━━━━━━━━━━━━━━━\u001b[0m\u001b[37m\u001b[0m \u001b[1m0s\u001b[0m 35ms/step\n"
     ]
    }
   ],
   "source": [
    "result,final = predict(model,image)"
   ]
  },
  {
   "cell_type": "code",
   "execution_count": 211,
   "id": "75f1fac1-41b2-4376-9ad0-bbd1a9fc6b48",
   "metadata": {},
   "outputs": [
    {
     "name": "stdout",
     "output_type": "stream",
     "text": [
      "                          0         1         2         3         4         5  \\\n",
      "Accuracy Rate  1.060401e-07  0.000197  0.000319  0.999279  0.000001  0.000155   \n",
      "\n",
      "                          6         7         8         9  \n",
      "Accuracy Rate  3.348277e-08  0.000011  0.000023  0.000015  \n",
      "3\n"
     ]
    }
   ],
   "source": [
    "print(result);\n",
    "print(final)"
   ]
  },
  {
   "cell_type": "code",
   "execution_count": 187,
   "id": "5700176e-d0cd-486b-ae30-5cf4028f173f",
   "metadata": {},
   "outputs": [],
   "source": [
    "#midtown manhutten"
   ]
  },
  {
   "cell_type": "code",
   "execution_count": 223,
   "id": "bef9dab7-f284-4266-899f-19a889e7f59b",
   "metadata": {},
   "outputs": [
    {
     "data": {
      "image/png": "[encoded data removed]",
      "text/plain": [
       "<Figure size 640x480 with 1 Axes>"
      ]
     },
     "metadata": {},
     "output_type": "display_data"
    },
    {
     "name": "stdout",
     "output_type": "stream",
     "text": [
      "Type: <class 'numpy.ndarray'>\n",
      "Dtype: uint8\n",
      "Shape: (1, 28, 28)\n"
     ]
    }
   ],
   "source": [
    "image2 = import_external_image(\"./seven(28x28)lined.png\")"
   ]
  },
  {
   "cell_type": "code",
   "execution_count": 213,
   "id": "2742b061-7641-4885-9b90-43d09b5a1287",
   "metadata": {},
   "outputs": [
    {
     "name": "stdout",
     "output_type": "stream",
     "text": [
      "\u001b[1m1/1\u001b[0m \u001b[32m━━━━━━━━━━━━━━━━━━━━\u001b[0m\u001b[37m\u001b[0m \u001b[1m0s\u001b[0m 34ms/step\n"
     ]
    },
    {
     "data": {
      "text/plain": [
       "(                          0       1         2         3         4         5  \\\n",
       " Accuracy Rate  1.874282e-08  0.0008  0.031492  0.001248  0.003947  0.000047   \n",
       " \n",
       "                           6        7         8         9  \n",
       " Accuracy Rate  1.593569e-07  0.95735  0.004891  0.000225  ,\n",
       " 7)"
      ]
     },
     "execution_count": 213,
     "metadata": {},
     "output_type": "execute_result"
    }
   ],
   "source": [
    "predict(model,image2)"
   ]
  },
  {
   "cell_type": "code",
   "execution_count": 225,
   "id": "aabe16bd-b98f-4368-a01f-51281416968e",
   "metadata": {},
   "outputs": [
    {
     "data": {
      "image/png": "[encoded data removed]",
      "text/plain": [
       "<Figure size 640x480 with 1 Axes>"
      ]
     },
     "metadata": {},
     "output_type": "display_data"
    },
    {
     "name": "stdout",
     "output_type": "stream",
     "text": [
      "Type: <class 'numpy.ndarray'>\n",
      "Dtype: uint8\n",
      "Shape: (1, 28, 28)\n"
     ]
    }
   ],
   "source": [
    "image3 = import_external_image(\"./seven(28x28)unlined.png\")"
   ]
  },
  {
   "cell_type": "code",
   "execution_count": 129,
   "id": "d96410fe-9175-46c7-aa11-cbb0e52e4487",
   "metadata": {},
   "outputs": [
    {
     "name": "stdout",
     "output_type": "stream",
     "text": [
      "\u001b[1m1/1\u001b[0m \u001b[32m━━━━━━━━━━━━━━━━━━━━\u001b[0m\u001b[37m\u001b[0m \u001b[1m0s\u001b[0m 45ms/step\n"
     ]
    },
    {
     "data": {
      "text/plain": [
       "(              0         1         2             3         4             5  \\\n",
       " 0  5.174404e-15  0.000023  0.000002  2.646106e-07  0.679198  2.780062e-09   \n",
       " \n",
       "               6         7         8             9  \n",
       " 0  1.392660e-09  0.320773  0.000004  8.196159e-08  ,\n",
       " 4)"
      ]
     },
     "execution_count": 129,
     "metadata": {},
     "output_type": "execute_result"
    }
   ],
   "source": [
    "predict(model,image2)"
   ]
  },
  {
   "cell_type": "code",
   "execution_count": 227,
   "id": "3dc51f97-632e-4fe1-b2bf-01b29237b70e",
   "metadata": {},
   "outputs": [
    {
     "data": {
      "image/png": "[encoded data removed]",
      "text/plain": [
       "<Figure size 640x480 with 1 Axes>"
      ]
     },
     "metadata": {},
     "output_type": "display_data"
    },
    {
     "name": "stdout",
     "output_type": "stream",
     "text": [
      "Type: <class 'numpy.ndarray'>\n",
      "Dtype: uint8\n",
      "Shape: (1, 28, 28)\n"
     ]
    }
   ],
   "source": [
    "image4 = import_external_image(\"./eight(28x28).png\")"
   ]
  },
  {
   "cell_type": "code",
   "execution_count": 197,
   "id": "90d11d15-4c6c-413e-af31-4404ff9d001f",
   "metadata": {},
   "outputs": [
    {
     "name": "stdout",
     "output_type": "stream",
     "text": [
      "\u001b[1m1/1\u001b[0m \u001b[32m━━━━━━━━━━━━━━━━━━━━\u001b[0m\u001b[37m\u001b[0m \u001b[1m0s\u001b[0m 48ms/step\n"
     ]
    },
    {
     "data": {
      "text/plain": [
       "(          0         1         2         3             4         5         6  \\\n",
       " 0  0.000015  0.000067  0.000046  0.001787  7.410155e-07  0.002943  0.002492   \n",
       " \n",
       "           7         8         9  \n",
       " 0  0.000001  0.992645  0.000003  ,\n",
       " 8)"
      ]
     },
     "execution_count": 197,
     "metadata": {},
     "output_type": "execute_result"
    }
   ],
   "source": [
    "predict(model,image4)"
   ]
  },
  {
   "cell_type": "code",
   "execution_count": 229,
   "id": "d36227a1-ac35-4e0b-bc30-25e13b35b845",
   "metadata": {},
   "outputs": [
    {
     "data": {
      "image/png": "[encoded data removed]",
      "text/plain": [
       "<Figure size 640x480 with 1 Axes>"
      ]
     },
     "metadata": {},
     "output_type": "display_data"
    },
    {
     "name": "stdout",
     "output_type": "stream",
     "text": [
      "Type: <class 'numpy.ndarray'>\n",
      "Dtype: uint8\n",
      "Shape: (1, 28, 28)\n"
     ]
    }
   ],
   "source": [
    "image5 = import_external_image(\"./zero(28x28).png\")"
   ]
  },
  {
   "cell_type": "code",
   "execution_count": 201,
   "id": "17b58ab8-b126-47c6-9ad0-a49dec3ba6f8",
   "metadata": {},
   "outputs": [
    {
     "name": "stdout",
     "output_type": "stream",
     "text": [
      "\u001b[1m1/1\u001b[0m \u001b[32m━━━━━━━━━━━━━━━━━━━━\u001b[0m\u001b[37m\u001b[0m \u001b[1m0s\u001b[0m 45ms/step\n"
     ]
    },
    {
     "data": {
      "text/plain": [
       "(          0             1         2         3             4             5  \\\n",
       " 0  0.999913  9.581612e-08  0.000081  0.000003  4.394431e-10  5.773956e-07   \n",
       " \n",
       "               6             7         8             9  \n",
       " 0  8.211479e-09  6.715458e-07  0.000002  5.730214e-07  ,\n",
       " 0)"
      ]
     },
     "execution_count": 201,
     "metadata": {},
     "output_type": "execute_result"
    }
   ],
   "source": [
    "predict(model,image5)"
   ]
  },
  {
   "cell_type": "code",
   "execution_count": 231,
   "id": "144451e1-3c73-457c-bd00-0239144364ee",
   "metadata": {},
   "outputs": [
    {
     "data": {
      "image/png": "[encoded data removed]",
      "text/plain": [
       "<Figure size 640x480 with 1 Axes>"
      ]
     },
     "metadata": {},
     "output_type": "display_data"
    },
    {
     "name": "stdout",
     "output_type": "stream",
     "text": [
      "Type: <class 'numpy.ndarray'>\n",
      "Dtype: uint8\n",
      "Shape: (1, 28, 28)\n"
     ]
    }
   ],
   "source": [
    "image6 = import_external_image(\"./one(28x28).png\")"
   ]
  },
  {
   "cell_type": "code",
   "execution_count": 233,
   "id": "685293ed-a0c5-4375-b0d3-64644172a256",
   "metadata": {},
   "outputs": [
    {
     "name": "stdout",
     "output_type": "stream",
     "text": [
      "\u001b[1m1/1\u001b[0m \u001b[32m━━━━━━━━━━━━━━━━━━━━\u001b[0m\u001b[37m\u001b[0m \u001b[1m0s\u001b[0m 82ms/step\n"
     ]
    },
    {
     "data": {
      "text/plain": [
       "(                      0        1         2         3         4         5  \\\n",
       " Accuracy Rate  0.003973  0.15641  0.022758  0.010371  0.067447  0.004639   \n",
       " \n",
       "                       6         7         8         9  \n",
       " Accuracy Rate  0.003668  0.649876  0.002415  0.078443  ,\n",
       " 7)"
      ]
     },
     "execution_count": 233,
     "metadata": {},
     "output_type": "execute_result"
    }
   ],
   "source": [
    "predict(model,image6)"
   ]
  },
  {
   "cell_type": "code",
   "execution_count": 235,
   "id": "e99f755e-4437-4ad8-a9bf-3e9c5034793e",
   "metadata": {},
   "outputs": [
    {
     "data": {
      "image/png": "[encoded data removed]",
      "text/plain": [
       "<Figure size 640x480 with 1 Axes>"
      ]
     },
     "metadata": {},
     "output_type": "display_data"
    },
    {
     "name": "stdout",
     "output_type": "stream",
     "text": [
      "Type: <class 'numpy.ndarray'>\n",
      "Dtype: uint8\n",
      "Shape: (1, 28, 28)\n"
     ]
    }
   ],
   "source": [
    "image7 = import_external_image(\"./two(28x28).png\")"
   ]
  },
  {
   "cell_type": "code",
   "execution_count": 237,
   "id": "fe7921df-9fba-4ab1-93ad-a964899fb4ff",
   "metadata": {},
   "outputs": [
    {
     "name": "stdout",
     "output_type": "stream",
     "text": [
      "\u001b[1m1/1\u001b[0m \u001b[32m━━━━━━━━━━━━━━━━━━━━\u001b[0m\u001b[37m\u001b[0m \u001b[1m0s\u001b[0m 45ms/step\n"
     ]
    },
    {
     "data": {
      "text/plain": [
       "(                          0         1         2             3             4  \\\n",
       " Accuracy Rate  9.639115e-10  0.209823  0.790176  1.219363e-09  5.575037e-12   \n",
       " \n",
       "                           5             6             7             8  \\\n",
       " Accuracy Rate  1.325627e-13  1.404326e-14  1.373685e-07  3.098400e-11   \n",
       " \n",
       "                           9  \n",
       " Accuracy Rate  2.189067e-11  ,\n",
       " 2)"
      ]
     },
     "execution_count": 237,
     "metadata": {},
     "output_type": "execute_result"
    }
   ],
   "source": [
    "predict(model,image7)"
   ]
  },
  {
   "cell_type": "code",
   "execution_count": null,
   "id": "c2d39520-575d-4f08-8680-6367aba529f9",
   "metadata": {},
   "outputs": [],
   "source": []
  }
 ],
 "metadata": {
  "kernelspec": {
   "display_name": "Python [conda env:base] *",
   "language": "python",
   "name": "conda-base-py"
  },
  "language_info": {
   "codemirror_mode": {
    "name": "ipython",
    "version": 3
   },
   "file_extension": ".py",
   "mimetype": "text/x-python",
   "name": "python",
   "nbconvert_exporter": "python",
   "pygments_lexer": "ipython3",
   "version": "3.12.7"
  }
 },
 "nbformat": 4,
 "nbformat_minor": 5
}
